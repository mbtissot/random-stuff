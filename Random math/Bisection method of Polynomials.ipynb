{
 "cells": [
  {
   "cell_type": "code",
   "execution_count": 2,
   "metadata": {},
   "outputs": [
    {
     "name": "stdout",
     "output_type": "stream",
     "text": [
      "Bisection:  -1.2223353143781424\n",
      "Tries:  30\n",
      "Pelo atalho =  [-1.22233532]\n"
     ]
    },
    {
     "data": {
      "image/png": "[encoded data removed]",
      "text/plain": [
       "<Figure size 432x288 with 1 Axes>"
      ]
     },
     "metadata": {
      "needs_background": "light"
     },
     "output_type": "display_data"
    }
   ],
   "source": [
    "import matplotlib.pyplot as plt\n",
    "import numpy as np\n",
    "from scipy.optimize import fsolve\n",
    "\n",
    "\n",
    "def f(x):\n",
    "    return x**5 + 13*(x**3) + 5*(x**2) + 19\n",
    "\n",
    "def bisection(a,b,tolerance):\n",
    "    xo = a\n",
    "    xf = b\n",
    "    i=0\n",
    "    while (np.abs(xo-xf)>=tolerance):\n",
    "        c = ((xo + xf)/2.0 )\n",
    "        prod = (f(a)*f(c))\n",
    "        if prod < tolerance:\n",
    "            xf = c\n",
    "            i+=1\n",
    "        else:\n",
    "            if prod > tolerance:\n",
    "                xo = c\n",
    "                i+=1\n",
    "    return i,c\n",
    "            \n",
    "    \n",
    "zero = bisection(-5, 5,1e-8)\n",
    "print(\"Bisection: \", zero[1])\n",
    "print(\"Tries: \", zero[0])\n",
    "\n",
    "\n",
    "\n",
    "xvals = np.linspace(-2, 2, 100)\n",
    "y = f(xvals)\n",
    "\n",
    "\n",
    "\n",
    "atalho = fsolve(f, 5)\n",
    "\n",
    "print ('Pelo atalho = ', atalho)\n",
    "\n",
    "\n",
    "plt.plot(xvals, y, 'r')\n",
    "plt.grid()\n",
    "plt.show()\n",
    "\n"
   ]
  },
  {
   "cell_type": "code",
   "execution_count": null,
   "metadata": {},
   "outputs": [],
   "source": []
  }
 ],
 "metadata": {
  "kernelspec": {
   "display_name": "Python 3",
   "language": "python",
   "name": "python3"
  },
  "language_info": {
   "codemirror_mode": {
    "name": "ipython",
    "version": 3
   },
   "file_extension": ".py",
   "mimetype": "text/x-python",
   "name": "python",
   "nbconvert_exporter": "python",
   "pygments_lexer": "ipython3",
   "version": "3.8.3"
  }
 },
 "nbformat": 4,
 "nbformat_minor": 4
}
