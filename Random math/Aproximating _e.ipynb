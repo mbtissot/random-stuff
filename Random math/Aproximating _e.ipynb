{
 "cells": [
  {
   "cell_type": "code",
   "execution_count": 1,
   "metadata": {},
   "outputs": [
    {
     "data": {
      "image/png": "[encoded data removed]",
      "text/plain": [
       "<Figure size 432x288 with 1 Axes>"
      ]
     },
     "metadata": {
      "needs_background": "light"
     },
     "output_type": "display_data"
    },
    {
     "name": "stdout",
     "output_type": "stream",
     "text": [
      "'e' is aproximatelly equal to  2.7182818284590455\n",
      "'e' is actually equal to  2.718281828459045\n"
     ]
    }
   ],
   "source": [
    "import numpy as np\n",
    "import sympy as sp\n",
    "import matplotlib.pyplot as plt\n",
    "\n",
    "e = np.exp(1) # defining 'e' as 2.718281828459045\n",
    "\n",
    "n =  20 # int(input(\"How many elements do you want in the sequence to aproximate e? \")) # number of elements in the sequence\n",
    "\n",
    "# print(\"e = \", e)\n",
    "\n",
    "\n",
    "\n",
    "# 2.5 -- 2.666666 --2.7083 -- 2.7166666\n",
    "\n",
    "xvals = []\n",
    "yvals = []\n",
    "line1 = []\n",
    "e_real = []\n",
    "\n",
    "def sum_fact(n):\n",
    "    s = 1\n",
    "    last = 1\n",
    "    for i in range(1, n+1):\n",
    "        s = s + 1/(i*last)\n",
    "        last = last*i\n",
    "        xvals.append(i)\n",
    "        yvals.append(s)\n",
    "        e_real.append(e)\n",
    "        i += i\n",
    "    return s\n",
    "        \n",
    "mye = sum_fact(n)\n",
    "\n",
    "plt.plot(xvals, yvals, 'b.')\n",
    "plt.plot(xvals, e_real, 'r')\n",
    "plt.grid()\n",
    "plt.show()\n",
    "\n",
    "# print(\" f equals \", f)\n",
    "\n",
    "print(\"'e' is aproximatelly equal to \", mye)\n",
    "print(\"'e' is actually equal to \", e)"
   ]
  },
  {
   "cell_type": "code",
   "execution_count": null,
   "metadata": {},
   "outputs": [],
   "source": []
  }
 ],
 "metadata": {
  "kernelspec": {
   "display_name": "Python 3 (ipykernel)",
   "language": "python",
   "name": "python3"
  },
  "language_info": {
   "codemirror_mode": {
    "name": "ipython",
    "version": 3
   },
   "file_extension": ".py",
   "mimetype": "text/x-python",
   "name": "python",
   "nbconvert_exporter": "python",
   "pygments_lexer": "ipython3",
   "version": "3.8.10"
  }
 },
 "nbformat": 4,
 "nbformat_minor": 4
}
