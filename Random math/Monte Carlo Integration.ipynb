{
 "cells": [
  {
   "cell_type": "code",
   "execution_count": 3,
   "metadata": {},
   "outputs": [
    {
     "name": "stdout",
     "output_type": "stream",
     "text": [
      "ymax e ymin 4.0 0.0\n",
      "area of square 16.0\n",
      "ratio =  0.54\n",
      "Area of the function =  8.64\n"
     ]
    },
    {
     "data": {
      "image/png": "[encoded data removed]",
      "text/plain": [
       "<Figure size 432x288 with 1 Axes>"
      ]
     },
     "metadata": {
      "needs_background": "light"
     },
     "output_type": "display_data"
    }
   ],
   "source": [
    "import matplotlib.pyplot as plt\n",
    "import numpy as np\n",
    "from numpy import random as rd\n",
    "\n",
    "e = np.exp(1)\n",
    "\n",
    "def f(x):\n",
    "    return (1/2)*(x**3) - (x) + (2) \n",
    "\n",
    "n = 100 # darts thrown\n",
    "\n",
    "a = -2\n",
    "b = 2\n",
    "\n",
    "base = (b-a)\n",
    "\n",
    "xaxis = np.linspace(a, b, (base*100))\n",
    "\n",
    "ymax = 0\n",
    "ymin = 10000\n",
    "\n",
    "for x in xaxis:\n",
    "    y = f(x)\n",
    "    if y >= ymax:\n",
    "        ymax = y\n",
    "\n",
    "\n",
    "for x in xaxis:\n",
    "    y = f(x)\n",
    "    if y <= ymin:\n",
    "        ymin = y\n",
    "        \n",
    "if ymin > 0:\n",
    "    ymin = 0\n",
    "        \n",
    "height = (ymax-ymin)\n",
    "\n",
    "square = height*base\n",
    "\n",
    "dx = []\n",
    "dy = []\n",
    "\n",
    "yin_func = []\n",
    "xin_func = []\n",
    "yout_func = []\n",
    "xout_func = []\n",
    "x0 = 0\n",
    "\n",
    "for i in range(n):\n",
    "    dx = rd.uniform(a, b)\n",
    "    dy = rd.uniform(ymin, ymax)\n",
    "    \n",
    "    if dy <= f(dx):\n",
    "        yin_func.append(dy)\n",
    "        xin_func.append(dx)\n",
    "    else:\n",
    "        yout_func.append(dy)\n",
    "        xout_func.append(dx)\n",
    "            \n",
    "ratio = len(yin_func)/n\n",
    "\n",
    "area_func = square*ratio\n",
    "\n",
    "print(\"ymax e ymin\", ymax, ymin)\n",
    "print(\"area of square\", square)\n",
    "\n",
    "print(\"ratio = \", ratio)\n",
    "\n",
    "print(\"Area of the function = \", square*ratio)\n",
    "\n",
    "plt.plot(xin_func, yin_func, 'r.', markersize=4)\n",
    "plt.plot(xout_func, yout_func, 'b.',markersize=4)\n",
    "plt.plot(xaxis, f(xaxis), 'k')\n",
    "plt.grid()\n",
    "plt.show()\n",
    "        \n",
    "\n"
   ]
  },
  {
   "cell_type": "code",
   "execution_count": null,
   "metadata": {},
   "outputs": [],
   "source": []
  },
  {
   "cell_type": "code",
   "execution_count": null,
   "metadata": {},
   "outputs": [],
   "source": []
  }
 ],
 "metadata": {
  "kernelspec": {
   "display_name": "Python 3 (ipykernel)",
   "language": "python",
   "name": "python3"
  },
  "language_info": {
   "codemirror_mode": {
    "name": "ipython",
    "version": 3
   },
   "file_extension": ".py",
   "mimetype": "text/x-python",
   "name": "python",
   "nbconvert_exporter": "python",
   "pygments_lexer": "ipython3",
   "version": "3.8.10"
  }
 },
 "nbformat": 4,
 "nbformat_minor": 4
}
