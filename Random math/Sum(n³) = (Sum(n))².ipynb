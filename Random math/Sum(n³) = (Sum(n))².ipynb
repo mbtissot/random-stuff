{
 "cells": [
  {
   "cell_type": "code",
   "execution_count": 1,
   "metadata": {},
   "outputs": [
    {
     "name": "stdout",
     "output_type": "stream",
     "text": [
      "Enter 'n': 100\n",
      "Square of Sum(n) = 24502500\n",
      "Sum of cubes = 24502500\n"
     ]
    }
   ],
   "source": [
    "n = int(input(\"Enter 'n': \"))\n",
    "\n",
    "soma1 = 0\n",
    "soma2 = 0\n",
    "for i in range(n):\n",
    "    soma1 = soma1 + i\n",
    "    soma2 = soma2 + i**3\n",
    "\n",
    "print('Square of Sum(n) = ' + str(soma1**2))    \n",
    "print('Sum of cubes = ' + str(soma2))"
   ]
  }
 ],
 "metadata": {
  "kernelspec": {
   "display_name": "Python 3",
   "language": "python",
   "name": "python3"
  },
  "language_info": {
   "codemirror_mode": {
    "name": "ipython",
    "version": 3
   },
   "file_extension": ".py",
   "mimetype": "text/x-python",
   "name": "python",
   "nbconvert_exporter": "python",
   "pygments_lexer": "ipython3",
   "version": "3.8.3"
  }
 },
 "nbformat": 4,
 "nbformat_minor": 4
}
