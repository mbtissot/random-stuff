{
 "cells": [
  {
   "cell_type": "code",
   "execution_count": 1,
   "metadata": {},
   "outputs": [],
   "source": [
    "'''Importing cell: Here we import all of our packages and libraries'''\n",
    "\n",
    "import numpy as np"
   ]
  },
  {
   "cell_type": "code",
   "execution_count": 64,
   "metadata": {},
   "outputs": [],
   "source": [
    "'''Input cel: Here we have all of our inputs'''\n",
    "\n",
    "n = 10000 #Number of terms in our product to get pi"
   ]
  },
  {
   "cell_type": "code",
   "execution_count": 65,
   "metadata": {},
   "outputs": [],
   "source": [
    "'''Computation cell: Here we compute the value of Pi using the Wallis Sieve method,\n",
    "and calculate the error associated with the method, using the actual value of Pi'''\n",
    "\n",
    "'''The wallis Sieve function. \n",
    "Wallis sieve: (1/2)*(2/1)*(2/3)*(4/3)*(4/5)*...(n/n-1)*(n/n+1), with n even, n=2k'''\n",
    "def wallissieve(n): \n",
    "    prod = 1/2\n",
    "    for i in range(2, n, 2): #Range from 2 to n, going 2 at a time. 2, 4, 6, ..., n-2, n.\n",
    "        prod = prod * (i/(i-1))*(i/(i+1))\n",
    "    return 4*prod\n",
    "\n",
    "pi = wallissieve(n)\n",
    "\n",
    "error = (np.pi-pi)/np.pi #Computing the error associated with the method"
   ]
  },
  {
   "cell_type": "code",
   "execution_count": 66,
   "metadata": {},
   "outputs": [
    {
     "name": "stdout",
     "output_type": "stream",
     "text": [
      "Pi calculated using Wallis Sieve Method, using n=10000:  3.141435562175509\n",
      "Pi actually is:  3.141592653589793\n",
      "Error = 5.000375020129489e-05%\n"
     ]
    }
   ],
   "source": [
    "'''Printing cell: Here we print the values of Pi calculated using the Wallis Sieve method,\n",
    "we compare it to the actual value of Pi, and print the error associated with the method.'''\n",
    "\n",
    "print('Pi calculated using Wallis Sieve Method, using n=' + str(n) + ': ', pi) #Printing Pi using WS.\n",
    "print('Pi actually is: ', np.pi) #Actual value of pi\n",
    "print('Error = '+ str(error) + '%') #Error"
   ]
  },
  {
   "cell_type": "code",
   "execution_count": null,
   "metadata": {},
   "outputs": [],
   "source": []
  }
 ],
 "metadata": {
  "kernelspec": {
   "display_name": "Python 3",
   "language": "python",
   "name": "python3"
  },
  "language_info": {
   "codemirror_mode": {
    "name": "ipython",
    "version": 3
   },
   "file_extension": ".py",
   "mimetype": "text/x-python",
   "name": "python",
   "nbconvert_exporter": "python",
   "pygments_lexer": "ipython3",
   "version": "3.8.3"
  }
 },
 "nbformat": 4,
 "nbformat_minor": 4
}
